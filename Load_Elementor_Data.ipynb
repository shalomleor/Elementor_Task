{
 "cells": [
  {
   "cell_type": "code",
   "execution_count": null,
   "metadata": {},
   "outputs": [],
   "source": [
    "import findspark\n",
    "findspark.init()\n",
    "import pyspark \n",
    "from pyspark.context import SparkContext\n",
    "from pyspark.sql.session import SparkSession\n",
    "from pyspark.sql import SQLContext\n",
    "sc = SparkContext.getOrCreate()\n",
    "spark = SparkSession(sc)\n",
    "sqlContext = SQLContext(sc)\n"
   ]
  },
  {
   "cell_type": "code",
   "execution_count": null,
   "metadata": {},
   "outputs": [],
   "source": [
    "#Load Parquet file into Postgres and deal with spaces in Open page rank column"
   ]
  },
  {
   "cell_type": "code",
   "execution_count": 2,
   "metadata": {},
   "outputs": [],
   "source": [
    "file = \"C:/ele/ranks_p.parquet\"\n",
    "df = spark.read.parquet(file)\n",
    "for c in df.columns:\n",
    "    df = df.withColumnRenamed(c, c.replace(\" \", \"\"))\n",
    "\n",
    "df = spark.read.schema(df.schema).parquet(file)"
   ]
  },
  {
   "cell_type": "code",
   "execution_count": 3,
   "metadata": {},
   "outputs": [
    {
     "name": "stdout",
     "output_type": "stream",
     "text": [
      "+-----+--------------------+------------+-----------------+\n",
      "| Rank|              Domain|OpenPageRank|__index_level_0__|\n",
      "+-----+--------------------+------------+-----------------+\n",
      "|45485|transportation.al...|        null|            45484|\n",
      "|45486|       pastiebin.com|        null|            45485|\n",
      "|45487|       joedolson.com|        null|            45486|\n",
      "|45488|  enelgreenpower.com|        null|            45487|\n",
      "|45489|      besacenter.org|        null|            45488|\n",
      "|45490|    startupticker.ch|        null|            45489|\n",
      "|45491|       elkodaily.com|        null|            45490|\n",
      "|45492| careers.walmart.com|        null|            45491|\n",
      "|45493|        longines.com|        null|            45492|\n",
      "|45494|    mdguidelines.com|        null|            45493|\n",
      "|45495|   theborneopost.com|        null|            45494|\n",
      "|45496|images.theconvers...|        null|            45495|\n",
      "|45497|           bev.gv.at|        null|            45496|\n",
      "|45498|    nuevopudahuel.cl|        null|            45497|\n",
      "|45499|    theoldfoodie.com|        null|            45498|\n",
      "|45500|       shockwave.com|        null|            45499|\n",
      "|45501|              guj.de|        null|            45500|\n",
      "|45502|     liveaquaria.com|        null|            45501|\n",
      "|45503|   executedtoday.com|        null|            45502|\n",
      "|45504|      cartage.org.lb|        null|            45503|\n",
      "|45505|    stcloudstate.edu|        null|            45504|\n",
      "|45506|          blog.qt.io|        null|            45505|\n",
      "|45507|      visualaids.org|        null|            45506|\n",
      "|45508|            nowtv.it|        null|            45507|\n",
      "|45509|           shnsf.com|        null|            45508|\n",
      "|45510|     sf-planning.org|        null|            45509|\n",
      "|45511|       lod-cloud.net|        null|            45510|\n",
      "|45512|          law.uh.edu|        null|            45511|\n",
      "|45513|       danielnyc.com|        null|            45512|\n",
      "|45514|       wunderweib.de|        null|            45513|\n",
      "|45515|       middleweb.com|        null|            45514|\n",
      "|45516|            tcrf.net|        null|            45515|\n",
      "|45517|        teoalida.com|        null|            45516|\n",
      "|45518|  merritthawkins.com|        null|            45517|\n",
      "|45519|     script.aculo.us|        null|            45518|\n",
      "|45520|   realtimeboard.com|        null|            45519|\n",
      "|45521|      carryology.com|        null|            45520|\n",
      "|45522|stockholmresilien...|        null|            45521|\n",
      "|45523| storerboatplans.com|        null|            45522|\n",
      "|45524|      poweroutage.us|        null|            45523|\n",
      "|45525|          lowyat.net|        null|            45524|\n",
      "|45526|    treasury.govt.nz|        null|            45525|\n",
      "|45527|         omniauto.it|        null|            45526|\n",
      "|45528| firstenergycorp.com|        null|            45527|\n",
      "|45529|freepages.genealo...|        null|            45528|\n",
      "|45530|       sikkim.gov.in|        null|            45529|\n",
      "|45531|neotropical.birds...|        null|            45530|\n",
      "|45532|        iwebtool.com|        null|            45531|\n",
      "|45533|  hamburg-travel.com|        null|            45532|\n",
      "|45534|             bda.org|        null|            45533|\n",
      "+-----+--------------------+------------+-----------------+\n",
      "only showing top 50 rows\n",
      "\n"
     ]
    }
   ],
   "source": [
    "df.show(50)"
   ]
  },
  {
   "cell_type": "code",
   "execution_count": 4,
   "metadata": {},
   "outputs": [],
   "source": [
    "url = \"jdbc:postgresql://localhost/Elementor?user=postgres&password=admin\"\n",
    "properties = {\n",
    "    \"driver\": \"org.postgresql.Driver\",\n",
    "    \"user\": \"postgres\",\n",
    "    \"password\": \"admin\"\n",
    "}"
   ]
  },
  {
   "cell_type": "code",
   "execution_count": 5,
   "metadata": {},
   "outputs": [],
   "source": [
    "df.write.jdbc(url,table=\"ranks\",mode=\"append\")"
   ]
  },
  {
   "cell_type": "code",
   "execution_count": null,
   "metadata": {},
   "outputs": [],
   "source": [
    "#Load Sales Data csv into Postgres"
   ]
  },
  {
   "cell_type": "code",
   "execution_count": 6,
   "metadata": {},
   "outputs": [],
   "source": [
    "df2 = spark.read.format('com.databricks.spark.csv').\\\n",
    "                               options(header='true', \\\n",
    "                               inferschema='true').\\\n",
    "                load(\"C:\\ele\\Sales_Data.csv\",header=True)"
   ]
  },
  {
   "cell_type": "code",
   "execution_count": 7,
   "metadata": {},
   "outputs": [],
   "source": [
    "df2.write.jdbc(url,table=\"sales_data\",mode=\"append\")"
   ]
  },
  {
   "cell_type": "code",
   "execution_count": null,
   "metadata": {},
   "outputs": [],
   "source": [
    "# Load XLSX file into Postgres - import with Pandas and convert to df"
   ]
  },
  {
   "cell_type": "code",
   "execution_count": 8,
   "metadata": {},
   "outputs": [],
   "source": [
    "import pandas"
   ]
  },
  {
   "cell_type": "code",
   "execution_count": 9,
   "metadata": {},
   "outputs": [],
   "source": [
    "pdf = pandas.read_excel('C:\\ele\\Promotion_dataxlsx.xlsx', sheet_name='Sheet2', inferSchema='true')\n",
    "df4 = spark.createDataFrame(pdf)"
   ]
  },
  {
   "cell_type": "code",
   "execution_count": 10,
   "metadata": {},
   "outputs": [],
   "source": [
    "df4.write.jdbc(url,table=\"promotion_data\",mode=\"append\")"
   ]
  },
  {
   "cell_type": "code",
   "execution_count": null,
   "metadata": {},
   "outputs": [],
   "source": []
  }
 ],
 "metadata": {
  "kernelspec": {
   "display_name": "Python 3",
   "language": "python",
   "name": "python3"
  },
  "language_info": {
   "codemirror_mode": {
    "name": "ipython",
    "version": 3
   },
   "file_extension": ".py",
   "mimetype": "text/x-python",
   "name": "python",
   "nbconvert_exporter": "python",
   "pygments_lexer": "ipython3",
   "version": "3.7.4"
  }
 },
 "nbformat": 4,
 "nbformat_minor": 2
}
